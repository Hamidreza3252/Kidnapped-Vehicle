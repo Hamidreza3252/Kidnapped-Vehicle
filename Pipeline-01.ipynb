{
 "cells": [
  {
   "cell_type": "code",
   "execution_count": 1,
   "metadata": {},
   "outputs": [
    {
     "data": {
      "text/html": [
       "<style>.container { width:80% !important; }</style>"
      ],
      "text/plain": [
       "<IPython.core.display.HTML object>"
      ]
     },
     "metadata": {},
     "output_type": "display_data"
    }
   ],
   "source": [
    "from IPython.core.display import display, HTML\n",
    "display(HTML(\"<style>.container { width:80% !important; }</style>\"))"
   ]
  },
  {
   "cell_type": "markdown",
   "metadata": {},
   "source": [
    "## 1. Overview\n",
    "This repository contains the codes for the Localization course, *kidnapped vehicle*. \n",
    " \n",
    " \n",
    "## 2. Project Introduction\n",
    "The aim of this project is to localize the vehicle or robot using the provided map of the location, a (noisy) GPS estimate of the initial location of the vehicle, and lots of (noisy) sensor and control data. To do so, a 2-dimensional particle filter was developed in C++. The particle filter algorithm will be given a map and some initial localization information (analogous to what a GPS would provide). At each time step of the simulation, the filter will also get observation and control data. The localization error is measured against the ground-truth values in the simulation. \n",
    " \n",
    "The passing criteria for the success of the project are: \n",
    " \n",
    "1. **Accuracy**: The particle filter should localize vehicle position and yaw to within the values specified in the parameters `max_translation_error` and `max_yaw_error` in `src/main.cpp`. \n",
    "\n",
    "2. **Performance**: The particle filter should complete execution within the time of 100 seconds. \n",
    "\n",
    "## 3. Running the Code\n",
    "\n",
    "This project involves the Term 2 Simulator which can be downloaded [here](https://github.com/udacity/self-driving-car-sim/releases)\n",
    "\n",
    "This repository includes two files that can be used to set up and install uWebSocketIO for either Linux or Mac systems. For windows you can use either Docker, VMware, or even Windows 10 Bash on Ubuntu to install uWebSocketIO. \n",
    "\n",
    "Once the install for uWebSocketIO is complete, the main program can be built and ran by doing the following from the project top directory.\n",
    "\n",
    "1. mkdir build\n",
    "2. cd build\n",
    "3. cmake ..\n",
    "4. make\n",
    "5. ./particle_filter\n",
    "\n",
    "Alternatively some scripts have been included to streamline this process, these can be leveraged by executing the following in the top directory of the project:\n",
    "\n",
    "1. ./clean.sh\n",
    "2. ./build.sh\n",
    "3. ./run.sh\n",
    "\n",
    "Here is the main protocol that main.cpp uses for uWebSocketIO in communicating with the simulator.\n",
    "\n",
    "**INPUT:** values provided by the simulator to the c++ program \n",
    "\n",
    "- sense noisy position data from the simulator: \n",
    "  [\"sense_x\"] \n",
    "  [\"sense_y\"] \n",
    "  [\"sense_theta\"] \n",
    "   \n",
    "- get the previous velocity and yaw rate to predict the particle's transitioned state:\n",
    "  [\"previous_velocity\"]\n",
    "  [\"previous_yawrate\"]\n",
    " \n",
    "- receive noisy observation data from the simulator, in a respective list of x/y values: \n",
    "  [\"sense_observations_x\"]\n",
    "  [\"sense_observations_y\"]\n",
    " \n",
    "\n",
    "**OUTPUT:** values provided by the c++ program to the simulator\n",
    "\n",
    "- best particle values used for calculating the error evaluation\n",
    "  [\"best_particle_x\"]\n",
    "  [\"best_particle_y\"]\n",
    "  [\"best_particle_theta\"]\n",
    " \n",
    "- Optional message data used for debugging particle's sensing and associations\n",
    "\n",
    "- for respective (x,y) sensed positions ID label\n",
    "  [\"best_particle_associations\"]\n",
    " \n",
    "- for respective (x,y) sensed positions\n",
    "  [\"best_particle_sense_x\"] <= list of sensed x positions\n",
    "  [\"best_particle_sense_y\"] <= list of sensed y positions\n",
    "\n",
    "## 4. Implementation of the Particle Filter \n",
    "The directory structure of this repository is as follows:\n",
    "\n",
    "```\n",
    "root\n",
    "|   build.sh\n",
    "|   clean.sh\n",
    "|   CMakeLists.txt\n",
    "|   README.md\n",
    "|   run.sh\n",
    "|\n",
    "|___data\n",
    "|   |   \n",
    "|   |   map_data.txt\n",
    "|   \n",
    "|   \n",
    "|___src\n",
    "    |   helper_functions.h\n",
    "    |   main.cpp\n",
    "    |   map.h\n",
    "    |   particle_filter.cpp\n",
    "    |   particle_filter.h\n",
    "```\n",
    "\n",
    "## 5. Inputs to the Particle Filter\n",
    "You can find the inputs to the particle filter in the `data` directory.\n",
    "\n",
    "### 5-1. The Map*\n",
    "`map_data.txt` includes the position of landmarks (in meters) on an arbitrary Cartesian coordinate system. Each row has three columns\n",
    "1. x position\n",
    "2. y position\n",
    "3. landmark id\n",
    "\n",
    "### 5-2. All other data the simulator provides, such as observations and controls.\n",
    "\n",
    "> * Map data provided by 3D Mapping Solutions GmbH.\n"
   ]
  },
  {
   "cell_type": "code",
   "execution_count": null,
   "metadata": {},
   "outputs": [],
   "source": []
  }
 ],
 "metadata": {
  "kernelspec": {
   "display_name": "Python 3",
   "language": "python",
   "name": "python3"
  },
  "language_info": {
   "codemirror_mode": {
    "name": "ipython",
    "version": 3
   },
   "file_extension": ".py",
   "mimetype": "text/x-python",
   "name": "python",
   "nbconvert_exporter": "python",
   "pygments_lexer": "ipython3",
   "version": "3.7.3"
  }
 },
 "nbformat": 4,
 "nbformat_minor": 2
}
